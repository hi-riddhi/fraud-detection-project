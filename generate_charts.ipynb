{
  "nbformat": 4,
  "nbformat_minor": 0,
  "metadata": {
    "colab": {
      "provenance": []
    },
    "kernelspec": {
      "name": "python3",
      "display_name": "Python 3"
    },
    "language_info": {
      "name": "python"
    }
  },
  "cells": [
    {
      "cell_type": "code",
      "execution_count": 2,
      "metadata": {
        "colab": {
          "base_uri": "https://localhost:8080/"
        },
        "id": "HqvC0JlEMTO9",
        "outputId": "dbd36476-efca-4f99-c0f6-5b6829694879"
      },
      "outputs": [
        {
          "output_type": "stream",
          "name": "stdout",
          "text": [
            "✅ Charts saved in the 'charts' folder!\n"
          ]
        }
      ],
      "source": [
        "import pandas as pd\n",
        "import matplotlib.pyplot as plt\n",
        "import seaborn as sns\n",
        "import os\n",
        "\n",
        "# Load dataset\n",
        "df = pd.read_csv('/content/Fraud.csv')\n",
        "\n",
        "# Create folder to save charts\n",
        "output_dir = 'charts'\n",
        "os.makedirs(output_dir, exist_ok=True)\n",
        "\n",
        "# ----- Chart 1: Fraud vs Non-Fraud Proportion -----\n",
        "plt.figure(figsize=(6,6))\n",
        "df['isFraud'].value_counts().plot.pie(labels=['Legit', 'Fraud'], autopct='%1.2f%%', colors=['#4CAF50','#F44336'])\n",
        "plt.title('Fraud vs Non-Fraud Proportion')\n",
        "plt.ylabel('')\n",
        "plt.savefig(os.path.join(output_dir, 'fraud_proportion.png'))\n",
        "plt.close()\n",
        "\n",
        "# ----- Chart 2: Transaction Types by Fraud Status -----\n",
        "plt.figure(figsize=(8,6))\n",
        "sns.countplot(x='type', hue='isFraud', data=df, palette='Set2')\n",
        "plt.title('Transaction Types by Fraud Status')\n",
        "plt.xlabel('Transaction Type')\n",
        "plt.ylabel('Count')\n",
        "plt.savefig(os.path.join(output_dir, 'transaction_types_fraud.png'))\n",
        "plt.close()\n",
        "\n",
        "# ----- Chart 3: Correlation Heatmap -----\n",
        "plt.figure(figsize=(10,8))\n",
        "numeric_df = df.select_dtypes(include=['number'])  # Only numeric columns\n",
        "corr = numeric_df.corr()\n",
        "sns.heatmap(corr, annot=True, fmt='.2f', cmap='coolwarm', cbar=True)\n",
        "plt.title('Correlation Heatmap')\n",
        "plt.savefig(os.path.join(output_dir, 'correlation_heatmap.png'))\n",
        "plt.close()\n",
        "\n",
        "\n",
        "# ----- Chart 4: Amount Distribution by Fraud -----\n",
        "plt.figure(figsize=(8,6))\n",
        "sns.histplot(df[df['amount']<50000], x='amount', hue='isFraud', bins=50, kde=True, palette='Set1')\n",
        "plt.title('Transaction Amount Distribution (Under 50K)')\n",
        "plt.xlabel('Amount')\n",
        "plt.ylabel('Frequency')\n",
        "plt.savefig(os.path.join(output_dir, 'amount_distribution.png'))\n",
        "plt.close()\n",
        "\n",
        "print(f\"✅ Charts saved in the '{output_dir}' folder!\")\n"
      ]
    }
  ]
}